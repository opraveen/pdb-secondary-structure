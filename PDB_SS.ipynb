{
 "cells": [
  {
   "cell_type": "code",
   "execution_count": 2,
   "metadata": {},
   "outputs": [],
   "source": [
    "import datetime\n",
    "import itertools\n",
    "import pandas as pd\n",
    "# import matplotlib.pyplot as plt\n",
    "\n",
    "# %matplotlib inline"
   ]
  },
  {
   "cell_type": "code",
   "execution_count": 3,
   "metadata": {},
   "outputs": [],
   "source": [
    "STATE_DD_8T3 = {\n",
    "    'G': 'H',\n",
    "    'H': 'H',\n",
    "    'I': 'H',\n",
    "    \n",
    "    'B': 'E',\n",
    "    'E': 'E',\n",
    "    \n",
    "    'T': 'C',\n",
    "    'S': 'C',\n",
    "    'C': 'C',\n",
    "}"
   ]
  },
  {
   "cell_type": "code",
   "execution_count": 4,
   "metadata": {},
   "outputs": [
    {
     "name": "stdout",
     "output_type": "stream",
     "text": [
      "CPU times: user 2.3 s, sys: 267 ms, total: 2.57 s\n",
      "Wall time: 2.64 s\n"
     ]
    }
   ],
   "source": [
    "%%time\n",
    "adf = pd.read_csv('./2018-09-09-ss.csv')"
   ]
  },
  {
   "cell_type": "code",
   "execution_count": 5,
   "metadata": {},
   "outputs": [
    {
     "data": {
      "text/html": [
       "<div>\n",
       "<style scoped>\n",
       "    .dataframe tbody tr th:only-of-type {\n",
       "        vertical-align: middle;\n",
       "    }\n",
       "\n",
       "    .dataframe tbody tr th {\n",
       "        vertical-align: top;\n",
       "    }\n",
       "\n",
       "    .dataframe thead th {\n",
       "        text-align: right;\n",
       "    }\n",
       "</style>\n",
       "<table border=\"1\" class=\"dataframe\">\n",
       "  <thead>\n",
       "    <tr style=\"text-align: right;\">\n",
       "      <th></th>\n",
       "      <th>pdb_id</th>\n",
       "      <th>chain_code</th>\n",
       "      <th>seq</th>\n",
       "      <th>sst</th>\n",
       "    </tr>\n",
       "  </thead>\n",
       "  <tbody>\n",
       "    <tr>\n",
       "      <th>0</th>\n",
       "      <td>101M</td>\n",
       "      <td>A</td>\n",
       "      <td>MVLSEGEWQLVLHVWAKVEADVAGHGQDILIRLFKSHPETLEKFDR...</td>\n",
       "      <td>CCCCHHHHHHHHHHHHHHGGGHHHHHHHHHHHHHHHCGGGGGGCTT...</td>\n",
       "    </tr>\n",
       "    <tr>\n",
       "      <th>1</th>\n",
       "      <td>102L</td>\n",
       "      <td>A</td>\n",
       "      <td>MNIFEMLRIDEGLRLKIYKDTEGYYTIGIGHLLTKSPSLNAAAKSE...</td>\n",
       "      <td>CCHHHHHHHHHCCEEEEEECTTSCEEEETTEEEESSSCTTTHHHHH...</td>\n",
       "    </tr>\n",
       "    <tr>\n",
       "      <th>2</th>\n",
       "      <td>102M</td>\n",
       "      <td>A</td>\n",
       "      <td>MVLSEGEWQLVLHVWAKVEADVAGHGQDILIRLFKSHPETLEKFDR...</td>\n",
       "      <td>CCCCHHHHHHHHHHHHHHGGGHHHHHHHHHHHHHHHCGGGGGGCTT...</td>\n",
       "    </tr>\n",
       "    <tr>\n",
       "      <th>3</th>\n",
       "      <td>103L</td>\n",
       "      <td>A</td>\n",
       "      <td>MNIFEMLRIDEGLRLKIYKDTEGYYTIGIGHLLTKSPSLNSLDAAK...</td>\n",
       "      <td>CCHHHHHHHHHCCEEEEEECTTSCEEEETTEECCCCCCCCCHHHHH...</td>\n",
       "    </tr>\n",
       "    <tr>\n",
       "      <th>4</th>\n",
       "      <td>103M</td>\n",
       "      <td>A</td>\n",
       "      <td>MVLSEGEWQLVLHVWAKVEADVAGHGQDILIRLFKSHPETLEKFDR...</td>\n",
       "      <td>CCCCHHHHHHHHHHHHHHGGGHHHHHHHHHHHHHHHCGGGGGGCTT...</td>\n",
       "    </tr>\n",
       "  </tbody>\n",
       "</table>\n",
       "</div>"
      ],
      "text/plain": [
       "  pdb_id chain_code                                                seq  \\\n",
       "0   101M          A  MVLSEGEWQLVLHVWAKVEADVAGHGQDILIRLFKSHPETLEKFDR...   \n",
       "1   102L          A  MNIFEMLRIDEGLRLKIYKDTEGYYTIGIGHLLTKSPSLNAAAKSE...   \n",
       "2   102M          A  MVLSEGEWQLVLHVWAKVEADVAGHGQDILIRLFKSHPETLEKFDR...   \n",
       "3   103L          A  MNIFEMLRIDEGLRLKIYKDTEGYYTIGIGHLLTKSPSLNSLDAAK...   \n",
       "4   103M          A  MVLSEGEWQLVLHVWAKVEADVAGHGQDILIRLFKSHPETLEKFDR...   \n",
       "\n",
       "                                                 sst  \n",
       "0  CCCCHHHHHHHHHHHHHHGGGHHHHHHHHHHHHHHHCGGGGGGCTT...  \n",
       "1  CCHHHHHHHHHCCEEEEEECTTSCEEEETTEEEESSSCTTTHHHHH...  \n",
       "2  CCCCHHHHHHHHHHHHHHGGGHHHHHHHHHHHHHHHCGGGGGGCTT...  \n",
       "3  CCHHHHHHHHHCCEEEEEECTTSCEEEETTEECCCCCCCCCHHHHH...  \n",
       "4  CCCCHHHHHHHHHHHHHHGGGHHHHHHHHHHHHHHHCGGGGGGCTT...  "
      ]
     },
     "execution_count": 5,
     "metadata": {},
     "output_type": "execute_result"
    }
   ],
   "source": [
    "adf.head()"
   ]
  },
  {
   "cell_type": "code",
   "execution_count": 50,
   "metadata": {},
   "outputs": [
    {
     "name": "stdout",
     "output_type": "stream",
     "text": [
      "Histidine pos: 9, Corresponding sec structure: T\n",
      "Neighbours: SKSTTLFSRHTKAIVWGMQ, Corresponding SS: CCCSCCCCTTCCEEEESCC\n",
      "Histidine pos: 50, Corresponding sec structure: E\n",
      "Neighbours: AAMVYPFTGDHKQKFYWGHK, Corresponding SS: EEEECTTSCSEEEEEEETTE\n",
      "Histidine pos: 58, Corresponding sec structure: T\n",
      "Neighbours: GDHKQKFYWGHKEILIPVFK, Corresponding SS: CSEEEEEEETTEEEEEEEES\n",
      "Histidine pos: 76, Corresponding sec structure: C\n",
      "Neighbours: FKNMADAMRKHPEVDVLINF, Corresponding SS: ESSHHHHHHHCTTCCEEEEC\n",
      "Histidine pos: 213, Corresponding sec structure: H\n",
      "Neighbours: DRYPGSTFMDHVLRYQDTPG, Corresponding SS: SSSCSSCHHHHHHHHHTCTT\n",
      "Histidine pos: 273, Corresponding sec structure: S\n",
      "Neighbours: TMFSSEVQFGHAGACANQAS, Corresponding SS: GGCSSCCCCSSTTCCCCSGG\n"
     ]
    }
   ],
   "source": [
    "pdb_id = '5TES'\n",
    "mypdb = adf[adf['pdb_id'] == pdb_id]\n",
    "\n",
    "# Has the sequence of aminoacids\n",
    "pri = mypdb.seq.values[0]\n",
    "\n",
    "# Has the sequence of corresponding secondary strucutures (alpha helix, beta sheet, loop/?)\n",
    "sec = mypdb.sst.values[0]\n",
    "\n",
    "hist_symbol = 'H'\n",
    "all_histadines = [pos for pos, char in enumerate(pri) if hist_symbol == char]\n",
    "all_histadines\n",
    "\n",
    "# 1. Find corresponding sec structure of each of the histidines\n",
    "# 2. Find the neighbours of all histadones\n",
    "NL = 10\n",
    "for hist_pos in all_histadines:\n",
    "    if hist_pos < NL:\n",
    "        left = 0\n",
    "    else:\n",
    "        left = hist_pos - NL\n",
    "        \n",
    "    if hist_pos > len(pri) - NL:\n",
    "        right = len(pri)\n",
    "    else:\n",
    "        right = hist_pos + NL\n",
    "        \n",
    "    roi = slice(left, right)\n",
    "\n",
    "    print (\"Histidine pos: {}, Corresponding sec structure: {}\".format(hist_pos, sec[hist_pos]))\n",
    "    print (\"Neighbours: {}, Corresponding SS: {}\".format(pri[roi], sec[roi]))"
   ]
  },
  {
   "cell_type": "markdown",
   "metadata": {},
   "source": [
    "G = 3-turn helix (310 helix). Min length 3 residues.\n",
    "H = 4-turn helix (α helix). Minimum length 4 residues.\n",
    "I = 5-turn helix (π helix). Minimum length 5 residues.\n",
    "T = hydrogen bonded turn (3, 4 or 5 turn)\n",
    "E = extended strand in parallel and/or anti-parallel β-sheet conformation. Min length 2 residues.\n",
    "B = residue in isolated β-bridge (single pair β-sheet hydrogen bond formation)\n",
    "S = bend (the only non-hydrogen-bond based assignment).\n",
    "C = coil (residues which are not in any of the above conformations)."
   ]
  },
  {
   "cell_type": "code",
   "execution_count": null,
   "metadata": {},
   "outputs": [],
   "source": []
  },
  {
   "cell_type": "code",
   "execution_count": null,
   "metadata": {},
   "outputs": [],
   "source": []
  },
  {
   "cell_type": "code",
   "execution_count": null,
   "metadata": {},
   "outputs": [],
   "source": []
  },
  {
   "cell_type": "code",
   "execution_count": null,
   "metadata": {},
   "outputs": [],
   "source": []
  },
  {
   "cell_type": "code",
   "execution_count": null,
   "metadata": {},
   "outputs": [],
   "source": []
  },
  {
   "cell_type": "code",
   "execution_count": null,
   "metadata": {},
   "outputs": [],
   "source": []
  },
  {
   "cell_type": "code",
   "execution_count": null,
   "metadata": {},
   "outputs": [],
   "source": []
  },
  {
   "cell_type": "code",
   "execution_count": null,
   "metadata": {},
   "outputs": [],
   "source": []
  },
  {
   "cell_type": "code",
   "execution_count": null,
   "metadata": {},
   "outputs": [],
   "source": []
  },
  {
   "cell_type": "code",
   "execution_count": 19,
   "metadata": {},
   "outputs": [
    {
     "data": {
      "text/html": [
       "<div>\n",
       "<style scoped>\n",
       "    .dataframe tbody tr th:only-of-type {\n",
       "        vertical-align: middle;\n",
       "    }\n",
       "\n",
       "    .dataframe tbody tr th {\n",
       "        vertical-align: top;\n",
       "    }\n",
       "\n",
       "    .dataframe thead th {\n",
       "        text-align: right;\n",
       "    }\n",
       "</style>\n",
       "<table border=\"1\" class=\"dataframe\">\n",
       "  <thead>\n",
       "    <tr style=\"text-align: right;\">\n",
       "      <th></th>\n",
       "      <th>pdb_id</th>\n",
       "      <th>chain_code</th>\n",
       "      <th>seq</th>\n",
       "      <th>sst</th>\n",
       "    </tr>\n",
       "  </thead>\n",
       "  <tbody>\n",
       "    <tr>\n",
       "      <th>227209</th>\n",
       "      <td>4BXI</td>\n",
       "      <td>A</td>\n",
       "      <td>NAIKLNGIENLKVREIKGLITAKILRAQEMNIPISIEIPDEVSSIN...</td>\n",
       "      <td>CCEEEESGGGBCCGGGHHHHHHHHHHHHHTTCCEEEECCSCBCCCS...</td>\n",
       "    </tr>\n",
       "  </tbody>\n",
       "</table>\n",
       "</div>"
      ],
      "text/plain": [
       "       pdb_id chain_code                                                seq  \\\n",
       "227209   4BXI          A  NAIKLNGIENLKVREIKGLITAKILRAQEMNIPISIEIPDEVSSIN...   \n",
       "\n",
       "                                                      sst  \n",
       "227209  CCEEEESGGGBCCGGGHHHHHHHHHHHHHTTCCEEEECCSCBCCCS...  "
      ]
     },
     "execution_count": 19,
     "metadata": {},
     "output_type": "execute_result"
    }
   ],
   "source": [
    "mypdb"
   ]
  },
  {
   "cell_type": "code",
   "execution_count": 20,
   "metadata": {},
   "outputs": [
    {
     "data": {
      "text/plain": [
       "227209    NAIKLNGIENLKVREIKGLITAKILRAQEMNIPISIEIPDEVSSIN...\n",
       "Name: seq, dtype: object"
      ]
     },
     "execution_count": 20,
     "metadata": {},
     "output_type": "execute_result"
    }
   ],
   "source": [
    "mypdb['seq']"
   ]
  },
  {
   "cell_type": "code",
   "execution_count": 30,
   "metadata": {},
   "outputs": [],
   "source": [
    "# Has the sequence of aminoacids\n",
    "pri = mypdb.seq.values[0]"
   ]
  },
  {
   "cell_type": "code",
   "execution_count": 29,
   "metadata": {},
   "outputs": [],
   "source": [
    "# Has the sequence of corresponding secondary strucutures (alpha helix, beta sheet, loop/?)\n",
    "sec = mypdb.sst.values[0]"
   ]
  },
  {
   "cell_type": "code",
   "execution_count": 31,
   "metadata": {},
   "outputs": [
    {
     "data": {
      "text/plain": [
       "('NAIKLNGIENLKVREIKGLITAKILRAQEMNIPISIEIPDEVSSINLNMIDLSRSIGIILDNAIEASTEIDDPIIRVAFIESENSVTFIVMNKCADDIPRIHELFQESFSTKGEGRGLGLSTLKEIADNADNVLLDTIIENGFFIQKVEIINN',\n",
       " 'CCEEEESGGGBCCGGGHHHHHHHHHHHHHTTCCEEEECCSCBCCCSSCHHHHHHHHHHHHHHHHHTTTTCSSCCEEEEEEECSSEEEEEEEEECTTCHHHHHHHHHHHHCCCCCCCCCCHHHHHHHHHHCTTEEEEEEEETTEEEEEEEEECC')"
      ]
     },
     "execution_count": 31,
     "metadata": {},
     "output_type": "execute_result"
    }
   ],
   "source": [
    "pri, sec"
   ]
  },
  {
   "cell_type": "code",
   "execution_count": 32,
   "metadata": {},
   "outputs": [
    {
     "data": {
      "text/plain": [
       "str"
      ]
     },
     "execution_count": 32,
     "metadata": {},
     "output_type": "execute_result"
    }
   ],
   "source": [
    "type(pri)"
   ]
  },
  {
   "cell_type": "code",
   "execution_count": 45,
   "metadata": {},
   "outputs": [
    {
     "data": {
      "text/plain": [
       "[101]"
      ]
     },
     "execution_count": 45,
     "metadata": {},
     "output_type": "execute_result"
    }
   ],
   "source": [
    "hist_symbol = 'H'\n",
    "all_histadines = [pos for pos, char in enumerate(pri) if hist_symbol == char]\n",
    "all_histadines"
   ]
  },
  {
   "cell_type": "code",
   "execution_count": 49,
   "metadata": {},
   "outputs": [
    {
     "name": "stdout",
     "output_type": "stream",
     "text": [
      "Histidine pos: 101, Corresponding sec structure: H\n",
      "Neighbours: NKCADDIPRIHELFQESFST, Corresponding SS: EECTTCHHHHHHHHHHHHCC\n"
     ]
    }
   ],
   "source": [
    "# 1. Find corresponding sec structure of each of the histidines\n",
    "# 2. Find the neighbours of all histadones\n",
    "NL = 10\n",
    "for hist_pos in all_histadines:\n",
    "    if hist_pos < NL:\n",
    "        left = 0\n",
    "    else:\n",
    "        left = hist_pos - NL\n",
    "        \n",
    "    if hist_pos > len(pri) - NL:\n",
    "        right = len(pri)\n",
    "    else:\n",
    "        right = hist_pos + NL\n",
    "        \n",
    "    roi = slice(left, right)\n",
    "\n",
    "    print (\"Histidine pos: {}, Corresponding sec structure: {}\".format(hist_pos, sec[hist_pos]))\n",
    "    print (\"Neighbours: {}, Corresponding SS: {}\".format(pri[roi], sec[roi]))"
   ]
  },
  {
   "cell_type": "code",
   "execution_count": 53,
   "metadata": {},
   "outputs": [
    {
     "name": "stdout",
     "output_type": "stream",
     "text": [
      "5009720968\n",
      "5009720968\n",
      "[15]\n"
     ]
    }
   ],
   "source": [
    "def updateNumber(n):\n",
    "    print(id(n))\n",
    "    n[0] += 10\n",
    "b = [5]\n",
    "print(id(b))                   # 10055680\n",
    "updateNumber(b)                # 10055680\n",
    "print(b)                       # 5"
   ]
  },
  {
   "cell_type": "code",
   "execution_count": null,
   "metadata": {},
   "outputs": [],
   "source": []
  }
 ],
 "metadata": {
  "kernelspec": {
   "display_name": "Python 3",
   "language": "python",
   "name": "python3"
  },
  "language_info": {
   "codemirror_mode": {
    "name": "ipython",
    "version": 3
   },
   "file_extension": ".py",
   "mimetype": "text/x-python",
   "name": "python",
   "nbconvert_exporter": "python",
   "pygments_lexer": "ipython3",
   "version": "3.6.6"
  }
 },
 "nbformat": 4,
 "nbformat_minor": 2
}
